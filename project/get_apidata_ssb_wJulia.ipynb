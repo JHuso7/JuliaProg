{
 "cells": [
  {
   "cell_type": "markdown",
   "id": "82ccac0f-e7da-4445-8b7c-a0e213e84b41",
   "metadata": {},
   "source": [
    "## Get Packages"
   ]
  },
  {
   "cell_type": "code",
   "execution_count": 1,
   "id": "f66bd98b-b56d-4f2b-976c-75b02b0608ea",
   "metadata": {},
   "outputs": [],
   "source": [
    "using HTTP\n",
    "using DataFrames\n",
    "using JSON\n",
    "using DataStructures\n",
    "using JSONStat"
   ]
  },
  {
   "cell_type": "markdown",
   "id": "84ab3ca6-981a-4352-aae8-cc4045a3f05b",
   "metadata": {},
   "source": [
    "## Get data from API"
   ]
  },
  {
   "cell_type": "code",
   "execution_count": 2,
   "id": "382d3312-f803-489e-9623-fb612ca20978",
   "metadata": {},
   "outputs": [
    {
     "data": {
      "text/plain": [
       "Dict{String, Any} with 2 entries:\n",
       "  \"response\" => Dict(\"format\"=>\"json-stat2\")\n",
       "  \"query\"    => Dict{String, Any}[Dict(\"selection\"=>Dict{String, Any}(\"values\"=…"
      ]
     },
     "execution_count": 2,
     "metadata": {},
     "output_type": "execute_result"
    }
   ],
   "source": [
    "params = Dict(\"query\" => [\n",
    "        Dict(\n",
    "            \"code\" => \"Tid\",\n",
    "            \"selection\" => Dict(\n",
    "                \"filter\" => \"item\",\n",
    "                \"values\" => [\"2022U34\", \"2022U35\"]\n",
    "            )\n",
    "        )], \"response\" => Dict(\"format\" => \"json-stat2\"))"
   ]
  },
  {
   "cell_type": "code",
   "execution_count": 3,
   "id": "7ff90bc9-f534-419d-a989-d76a6661602a",
   "metadata": {},
   "outputs": [
    {
     "data": {
      "text/plain": [
       "\"https://data.ssb.no/api/v0/no/table/03024/\""
      ]
     },
     "execution_count": 3,
     "metadata": {},
     "output_type": "execute_result"
    }
   ],
   "source": [
    "url = \"https://data.ssb.no/api/v0/no/table/03024/\""
   ]
  },
  {
   "cell_type": "code",
   "execution_count": 4,
   "id": "24be5873-1a7c-4723-8a05-f31af3ed61b3",
   "metadata": {},
   "outputs": [
    {
     "data": {
      "text/plain": [
       "HTTP.Messages.Response:\n",
       "\"\"\"\n",
       "HTTP/1.1 200 OK\r\n",
       "Cache-Control: private\r\n",
       "Content-Type: application/json; charset=utf-8\r\n",
       "Access-Control-Allow-Origin: *\r\n",
       "Date: Fri, 16 Sep 2022 18:14:07 GMT\r\n",
       "Content-Length: 1010\r\n",
       "X-Varnish: 1046523028\r\n",
       "Age: 0\r\n",
       "Via: 1.1 varnish (Varnish/6.0)\r\n",
       "Content-Security-Policy: upgrade-insecure-requests\r\n",
       "Expect-CT: enforce, max-age=3600\r\n",
       "Referrer-Policy: no-referrer-when-downgrade\r\n",
       "Strict-Transport-Security: max-age=86400\r\n",
       "X-Content-Type-Options: nosniff\r\n",
       "X-Frame-Options: SAMEORIGIN\r\n",
       "X-XSS-Protection: 1; mode=block\r\n",
       "X-Cache: MISS\r\n",
       "X-UA-Compatible: IE=Edge\r\n",
       "Set-Cookie: X-Identity=37702078.525; Path=/; Secure; HttpOnly\r\n",
       "Accept-Ranges: bytes\r\n",
       "Connection: keep-alive\r\n",
       "Set-Cookie: ssbno=ffffffffc2a8b2e245525d5f4f58455e445a4a423660;expires=Fri, 16-Sep-2022 19:14:08 GMT;path=/;secure;httponly\r\n",
       "\r\n",
       "{\"class\":\"dataset\",\"label\":\"03024: Eksport av oppalen laks, etter varegruppe, statistikkvariabel og uke\",\"source\":\"Statistisk sentralbyrå\",\"updated\":\"2022-09-14T06:00:00Z\",\"id\":[\"VareGrupper2\",\"ContentsCode\",\"Tid\"],\"size\":[2,2,2],\"dimension\":{\"VareGrupper2\":{\"label\":\"varegruppe\",\"category\":{\"index\":{\"01\":0,\"02\":1},\"label\":{\"01\":\"Fersk oppalen laks\",\"02\":\"Frosen oppalen laks\"}}},\"ContentsCode\":{\"label\":\"statistikkvariabel\",\"category\":{\"index\":{\"Vekt\":0,\"Kilopris\":1},\"label\":{\"Vekt\":\"Vekt (tonn)\",\"Kilopris\":\"Kilopris (kr)\"},\"unit\":{\"Vekt\":{\"base\":\"tonn\",\"decimals\":0},\"Kilopris\":{\"base\":\"kr\",\"decimals\":2}}},\"link\":{\"describedby\":[{\"extension\":{\"Vekt\":\"urn:ssb:conceptvariable:vardok:2982\"}}]}},\"Tid\":{\"label\":\"uke\",\"category\":{\"index\":{\"2022U34\":0,\"2022U35\":1},\"label\":{\"2022U34\":\"2022U34\",\"2022U35\":\"2022U35\"}}}},\"value\":[24160,24010,64.62,61.94,719,585,86.83,87.02],\"role\":{\"time\":[\"Tid\"],\"metric\":[\"ContentsCode\"]},\"version\":\"2.0\",\"extension\":{\"px\":{\"infofile\":\"None\",\"tableid\":\"03024\",\"deci\n",
       "⋮\n",
       "1010-byte body\n",
       "\"\"\""
      ]
     },
     "execution_count": 4,
     "metadata": {},
     "output_type": "execute_result"
    }
   ],
   "source": [
    "r = HTTP.request(\"POST\", url,\n",
    "                 [\"Content-Type\" => \"application/json\"],\n",
    "                 JSON.json(params))"
   ]
  },
  {
   "cell_type": "code",
   "execution_count": 5,
   "id": "08645231-518a-4354-ab64-49cd23c46a56",
   "metadata": {},
   "outputs": [
    {
     "data": {
      "text/plain": [
       "Dict{String, Any} with 11 entries:\n",
       "  \"label\"     => \"03024: Eksport av oppalen laks, etter varegruppe, statistikkv…\n",
       "  \"role\"      => Dict{String, Any}(\"time\"=>Any[\"Tid\"], \"metric\"=>Any[\"ContentsC…\n",
       "  \"id\"        => Any[\"VareGrupper2\", \"ContentsCode\", \"Tid\"]\n",
       "  \"value\"     => Any[24160, 24010, 64.62, 61.94, 719, 585, 86.83, 87.02]\n",
       "  \"version\"   => \"2.0\"\n",
       "  \"updated\"   => \"2022-09-14T06:00:00Z\"\n",
       "  \"class\"     => \"dataset\"\n",
       "  \"dimension\" => Dict{String, Any}(\"ContentsCode\"=>Dict{String, Any}(\"label\"=>\"…\n",
       "  \"size\"      => Any[2, 2, 2]\n",
       "  \"extension\" => Dict{String, Any}(\"px\"=>Dict{String, Any}(\"infofile\"=>\"None\", …\n",
       "  \"source\"    => \"Statistisk sentralbyrå\""
      ]
     },
     "execution_count": 5,
     "metadata": {},
     "output_type": "execute_result"
    }
   ],
   "source": [
    "bodyjs = JSON.parse(String(r.body))"
   ]
  },
  {
   "cell_type": "markdown",
   "id": "badaf153-5f1b-4331-855c-62975c9050bd",
   "metadata": {},
   "source": [
    "## Process data"
   ]
  },
  {
   "cell_type": "code",
   "execution_count": 55,
   "id": "e7d3fdc0-313b-45d2-a895-a4d5ad3078cd",
   "metadata": {},
   "outputs": [
    {
     "data": {
      "text/plain": [
       "3-element Vector{Any}:\n",
       " \"VareGrupper2\"\n",
       " \"ContentsCode\"\n",
       " \"Tid\""
      ]
     },
     "execution_count": 55,
     "metadata": {},
     "output_type": "execute_result"
    }
   ],
   "source": [
    "ident = bodyjs[\"id\"]"
   ]
  },
  {
   "cell_type": "code",
   "execution_count": 56,
   "id": "fd811c7f-42f3-4b60-af92-d1e83992cdc5",
   "metadata": {},
   "outputs": [
    {
     "data": {
      "text/plain": [
       "8-element Vector{Any}:\n",
       " 24160\n",
       " 24010\n",
       "    64.62\n",
       "    61.94\n",
       "   719\n",
       "   585\n",
       "    86.83\n",
       "    87.02"
      ]
     },
     "execution_count": 56,
     "metadata": {},
     "output_type": "execute_result"
    }
   ],
   "source": [
    "data = bodyjs[\"value\"]"
   ]
  },
  {
   "cell_type": "code",
   "execution_count": 57,
   "id": "9b3ad372-ba6f-42cb-a617-5a0a3a30b00e",
   "metadata": {},
   "outputs": [
    {
     "data": {
      "text/plain": [
       "Dict{String, Any} with 3 entries:\n",
       "  \"ContentsCode\" => Dict{String, Any}(\"label\"=>\"statistikkvariabel\", \"link\"=>Di…\n",
       "  \"Tid\"          => Dict{String, Any}(\"label\"=>\"uke\", \"category\"=>Dict{String, …\n",
       "  \"VareGrupper2\" => Dict{String, Any}(\"label\"=>\"varegruppe\", \"category\"=>Dict{S…"
      ]
     },
     "execution_count": 57,
     "metadata": {},
     "output_type": "execute_result"
    }
   ],
   "source": [
    "dim = bodyjs[\"dimension\"]"
   ]
  },
  {
   "cell_type": "code",
   "execution_count": 58,
   "id": "b06f19ac-2d5e-46f1-a09b-e3fe7e51aeda",
   "metadata": {},
   "outputs": [
    {
     "data": {
      "text/plain": [
       "3-element Vector{Any}:\n",
       " 2\n",
       " 2\n",
       " 2"
      ]
     },
     "execution_count": 58,
     "metadata": {},
     "output_type": "execute_result"
    }
   ],
   "source": [
    "dsize = bodyjs[\"size\"]"
   ]
  },
  {
   "cell_type": "code",
   "execution_count": 63,
   "id": "7defdc6d-3409-40d2-8313-edf246adcea6",
   "metadata": {},
   "outputs": [
    {
     "data": {
      "text/plain": [
       "2×2×2 Array{Any, 3}:\n",
       "[:, :, 1] =\n",
       " 24160  64.62\n",
       " 24010  61.94\n",
       "\n",
       "[:, :, 2] =\n",
       " 719  86.83\n",
       " 585  87.02"
      ]
     },
     "execution_count": 63,
     "metadata": {},
     "output_type": "execute_result"
    }
   ],
   "source": [
    "matrix = reshape(data, dsize[1], dsize[2], dsize[3])"
   ]
  },
  {
   "cell_type": "markdown",
   "id": "3c2bb89d-2051-49d8-9535-d7b20d9148ae",
   "metadata": {},
   "source": [
    "### Adjust so we have julia indexing"
   ]
  },
  {
   "cell_type": "code",
   "execution_count": 8,
   "id": "62ff4999-6607-4d86-b037-00881676ab61",
   "metadata": {},
   "outputs": [],
   "source": [
    "for i in ident\n",
    "    for (key, val) in dim[i][\"category\"][\"index\"]\n",
    "        val = val+1\n",
    "        dim[i][\"category\"][\"index\"][key] = val\n",
    "    end\n",
    "end"
   ]
  },
  {
   "cell_type": "markdown",
   "id": "cc3946d2-be82-4171-bd17-84ed8eeb80d9",
   "metadata": {},
   "source": [
    "### Adjust internal dictionary according to the index"
   ]
  },
  {
   "cell_type": "code",
   "execution_count": 10,
   "id": "3d8d9fa0-49cf-4654-9e30-edc30079ce4b",
   "metadata": {},
   "outputs": [],
   "source": [
    "for i in ident\n",
    "    rear = Dict()\n",
    "    for key in keys(dim[i][\"category\"][\"index\"])\n",
    "        idx = dim[i][\"category\"][\"index\"][key]\n",
    "        vgr = dim[i][\"category\"][\"label\"][key]\n",
    "        rear[idx] = vgr\n",
    "    end\n",
    "    dim[i][\"category\"][\"indeks\"] = rear\n",
    "end"
   ]
  },
  {
   "cell_type": "markdown",
   "id": "9b93be4f-1c33-4a4e-957d-bb4fb740e9ad",
   "metadata": {},
   "source": [
    "### Prepare and make Dataframe"
   ]
  },
  {
   "cell_type": "code",
   "execution_count": 53,
   "id": "f06f2b25-8dae-4fab-b20e-7d9ec9b40a21",
   "metadata": {},
   "outputs": [
    {
     "data": {
      "text/html": [
       "<div class=\"data-frame\"><p>0 rows × 4 columns</p><table class=\"data-frame\"><thead><tr><th></th><th>statistikkvariabel</th><th>uke</th><th>varegruppe</th><th>verdi</th></tr><tr><th></th><th title=\"Any\">Any</th><th title=\"Any\">Any</th><th title=\"Any\">Any</th><th title=\"Any\">Any</th></tr></thead><tbody></tbody></table></div>"
      ],
      "text/latex": [
       "\\begin{tabular}{r|cccc}\n",
       "\t& statistikkvariabel & uke & varegruppe & verdi\\\\\n",
       "\t\\hline\n",
       "\t& Any & Any & Any & Any\\\\\n",
       "\t\\hline\n",
       "\\end{tabular}\n"
      ],
      "text/plain": [
       "\u001b[1m0×4 DataFrame\u001b[0m"
      ]
     },
     "execution_count": 53,
     "metadata": {},
     "output_type": "execute_result"
    }
   ],
   "source": [
    "tlabel = dim[\"Tid\"][\"label\"]\n",
    "vlabel = dim[\"VareGrupper2\"][\"label\"]\n",
    "clabel = dim[\"ContentsCode\"][\"label\"]\n",
    "valcol = \"verdi\"\n",
    "\n",
    "mdf = Dict(tlabel => [], vlabel => [], clabel => [], valcol => [])\n",
    "\n",
    "mdf = DataFrame(mdf)"
   ]
  },
  {
   "cell_type": "code",
   "execution_count": 54,
   "id": "8b874715-a58f-4ba1-9181-d095633c55e4",
   "metadata": {},
   "outputs": [
    {
     "data": {
      "text/html": [
       "<div class=\"data-frame\"><p>8 rows × 4 columns</p><table class=\"data-frame\"><thead><tr><th></th><th>statistikkvariabel</th><th>uke</th><th>varegruppe</th><th>verdi</th></tr><tr><th></th><th title=\"Any\">Any</th><th title=\"Any\">Any</th><th title=\"Any\">Any</th><th title=\"Any\">Any</th></tr></thead><tbody><tr><th>1</th><td>2022U35</td><td>Frosen oppalen laks</td><td>Kilopris (kr)</td><td>87.02</td></tr><tr><th>2</th><td>2022U35</td><td>Frosen oppalen laks</td><td>Vekt (tonn)</td><td>585</td></tr><tr><th>3</th><td>2022U35</td><td>Fersk oppalen laks</td><td>Kilopris (kr)</td><td>61.94</td></tr><tr><th>4</th><td>2022U35</td><td>Fersk oppalen laks</td><td>Vekt (tonn)</td><td>24010</td></tr><tr><th>5</th><td>2022U34</td><td>Frosen oppalen laks</td><td>Kilopris (kr)</td><td>86.83</td></tr><tr><th>6</th><td>2022U34</td><td>Frosen oppalen laks</td><td>Vekt (tonn)</td><td>719</td></tr><tr><th>7</th><td>2022U34</td><td>Fersk oppalen laks</td><td>Kilopris (kr)</td><td>64.62</td></tr><tr><th>8</th><td>2022U34</td><td>Fersk oppalen laks</td><td>Vekt (tonn)</td><td>24160</td></tr></tbody></table></div>"
      ],
      "text/latex": [
       "\\begin{tabular}{r|cccc}\n",
       "\t& statistikkvariabel & uke & varegruppe & verdi\\\\\n",
       "\t\\hline\n",
       "\t& Any & Any & Any & Any\\\\\n",
       "\t\\hline\n",
       "\t1 & 2022U35 & Frosen oppalen laks & Kilopris (kr) & 87.02 \\\\\n",
       "\t2 & 2022U35 & Frosen oppalen laks & Vekt (tonn) & 585 \\\\\n",
       "\t3 & 2022U35 & Fersk oppalen laks & Kilopris (kr) & 61.94 \\\\\n",
       "\t4 & 2022U35 & Fersk oppalen laks & Vekt (tonn) & 24010 \\\\\n",
       "\t5 & 2022U34 & Frosen oppalen laks & Kilopris (kr) & 86.83 \\\\\n",
       "\t6 & 2022U34 & Frosen oppalen laks & Vekt (tonn) & 719 \\\\\n",
       "\t7 & 2022U34 & Fersk oppalen laks & Kilopris (kr) & 64.62 \\\\\n",
       "\t8 & 2022U34 & Fersk oppalen laks & Vekt (tonn) & 24160 \\\\\n",
       "\\end{tabular}\n"
      ],
      "text/plain": [
       "\u001b[1m8×4 DataFrame\u001b[0m\n",
       "\u001b[1m Row \u001b[0m│\u001b[1m statistikkvariabel \u001b[0m\u001b[1m uke                 \u001b[0m\u001b[1m varegruppe    \u001b[0m\u001b[1m verdi \u001b[0m\n",
       "\u001b[1m     \u001b[0m│\u001b[90m Any                \u001b[0m\u001b[90m Any                 \u001b[0m\u001b[90m Any           \u001b[0m\u001b[90m Any   \u001b[0m\n",
       "─────┼───────────────────────────────────────────────────────────────\n",
       "   1 │ 2022U35             Frosen oppalen laks  Kilopris (kr)  87.02\n",
       "   2 │ 2022U35             Frosen oppalen laks  Vekt (tonn)    585\n",
       "   3 │ 2022U35             Fersk oppalen laks   Kilopris (kr)  61.94\n",
       "   4 │ 2022U35             Fersk oppalen laks   Vekt (tonn)    24010\n",
       "   5 │ 2022U34             Frosen oppalen laks  Kilopris (kr)  86.83\n",
       "   6 │ 2022U34             Frosen oppalen laks  Vekt (tonn)    719\n",
       "   7 │ 2022U34             Fersk oppalen laks   Kilopris (kr)  64.62\n",
       "   8 │ 2022U34             Fersk oppalen laks   Vekt (tonn)    24160"
      ]
     },
     "execution_count": 54,
     "metadata": {},
     "output_type": "execute_result"
    }
   ],
   "source": [
    "for (tk, tv) in dim[\"Tid\"][\"category\"][\"indeks\"]\n",
    "    for (vk, vv) in dim[\"VareGrupper2\"][\"category\"][\"indeks\"]\n",
    "        for (ck, cv) in dim[\"ContentsCode\"][\"category\"][\"indeks\"]\n",
    "            push!(mdf,[tv, vv, cv, matrix[tk, ck, vk]])\n",
    "        end\n",
    "    end\n",
    "end\n",
    "mdf"
   ]
  },
  {
   "cell_type": "code",
   "execution_count": 45,
   "id": "7ccc0bbe-4bbc-4961-928a-73f349aa6b1f",
   "metadata": {},
   "outputs": [
    {
     "data": {
      "text/plain": [
       "Dict{Any, Any} with 2 entries:\n",
       "  2 => \"2022U35\"\n",
       "  1 => \"2022U34\""
      ]
     },
     "execution_count": 45,
     "metadata": {},
     "output_type": "execute_result"
    }
   ],
   "source": [
    "dim[\"Tid\"][\"category\"][\"indeks\"]"
   ]
  },
  {
   "cell_type": "code",
   "execution_count": 46,
   "id": "1e65db77-5e2b-48b5-90d1-46d30cd2583a",
   "metadata": {},
   "outputs": [
    {
     "data": {
      "text/plain": [
       "Dict{Any, Any} with 2 entries:\n",
       "  2 => \"Frosen oppalen laks\"\n",
       "  1 => \"Fersk oppalen laks\""
      ]
     },
     "execution_count": 46,
     "metadata": {},
     "output_type": "execute_result"
    }
   ],
   "source": [
    "dim[\"VareGrupper2\"][\"category\"][\"indeks\"]"
   ]
  },
  {
   "cell_type": "code",
   "execution_count": 47,
   "id": "7d660b3d-c735-4189-b670-6d3b5147d7ba",
   "metadata": {},
   "outputs": [
    {
     "data": {
      "text/plain": [
       "Dict{Any, Any} with 2 entries:\n",
       "  2 => \"Kilopris (kr)\"\n",
       "  1 => \"Vekt (tonn)\""
      ]
     },
     "execution_count": 47,
     "metadata": {},
     "output_type": "execute_result"
    }
   ],
   "source": [
    "dim[\"ContentsCode\"][\"category\"][\"indeks\"]"
   ]
  },
  {
   "cell_type": "code",
   "execution_count": null,
   "id": "6cf10bc0-e14f-46f4-8aee-c836836226e0",
   "metadata": {},
   "outputs": [],
   "source": []
  }
 ],
 "metadata": {
  "kernelspec": {
   "display_name": "Julia 1.7.2",
   "language": "julia",
   "name": "julia-1.7"
  },
  "language_info": {
   "file_extension": ".jl",
   "mimetype": "application/julia",
   "name": "julia",
   "version": "1.7.2"
  }
 },
 "nbformat": 4,
 "nbformat_minor": 5
}
