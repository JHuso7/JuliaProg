{
 "cells": [
  {
   "cell_type": "markdown",
   "id": "82ccac0f-e7da-4445-8b7c-a0e213e84b41",
   "metadata": {},
   "source": [
    "## Get Packages"
   ]
  },
  {
   "cell_type": "code",
   "execution_count": 235,
   "id": "f66bd98b-b56d-4f2b-976c-75b02b0608ea",
   "metadata": {},
   "outputs": [],
   "source": [
    "using HTTP\n",
    "using DataFrames\n",
    "using JSON\n",
    "using DataStructures\n",
    "using JSONStat"
   ]
  },
  {
   "cell_type": "markdown",
   "id": "84ab3ca6-981a-4352-aae8-cc4045a3f05b",
   "metadata": {},
   "source": [
    "## Get data from API"
   ]
  },
  {
   "cell_type": "code",
   "execution_count": 56,
   "id": "382d3312-f803-489e-9623-fb612ca20978",
   "metadata": {},
   "outputs": [
    {
     "data": {
      "text/plain": [
       "Dict{String, Any} with 2 entries:\n",
       "  \"response\" => Dict(\"format\"=>\"json-stat2\")\n",
       "  \"query\"    => Dict{String, Any}[Dict(\"selection\"=>Dict{String, Any}(\"values\"=…"
      ]
     },
     "execution_count": 56,
     "metadata": {},
     "output_type": "execute_result"
    }
   ],
   "source": [
    "params = Dict(\"query\" => [\n",
    "        Dict(\n",
    "            \"code\" => \"Tid\",\n",
    "            \"selection\" => Dict(\n",
    "                \"filter\" => \"item\",\n",
    "                \"values\" => [\"2022U34\", \"2022U35\"]\n",
    "            )\n",
    "        )], \"response\" => Dict(\"format\" => \"json-stat2\"))"
   ]
  },
  {
   "cell_type": "code",
   "execution_count": 57,
   "id": "7ff90bc9-f534-419d-a989-d76a6661602a",
   "metadata": {},
   "outputs": [
    {
     "data": {
      "text/plain": [
       "\"https://data.ssb.no/api/v0/no/table/03024/\""
      ]
     },
     "execution_count": 57,
     "metadata": {},
     "output_type": "execute_result"
    }
   ],
   "source": [
    "url = \"https://data.ssb.no/api/v0/no/table/03024/\""
   ]
  },
  {
   "cell_type": "code",
   "execution_count": 98,
   "id": "24be5873-1a7c-4723-8a05-f31af3ed61b3",
   "metadata": {},
   "outputs": [
    {
     "data": {
      "text/plain": [
       "HTTP.Messages.Response:\n",
       "\"\"\"\n",
       "HTTP/1.1 200 OK\r\n",
       "Cache-Control: private\r\n",
       "Content-Type: application/json; charset=utf-8\r\n",
       "Access-Control-Allow-Origin: *\r\n",
       "Date: Mon, 12 Sep 2022 09:43:26 GMT\r\n",
       "Content-Length: 1010\r\n",
       "X-Varnish: 1004134926\r\n",
       "Age: 0\r\n",
       "Via: 1.1 varnish (Varnish/6.0)\r\n",
       "Content-Security-Policy: upgrade-insecure-requests\r\n",
       "Expect-CT: enforce, max-age=3600\r\n",
       "Referrer-Policy: no-referrer-when-downgrade\r\n",
       "Strict-Transport-Security: max-age=86400\r\n",
       "X-Content-Type-Options: nosniff\r\n",
       "X-Frame-Options: SAMEORIGIN\r\n",
       "X-XSS-Protection: 1; mode=block\r\n",
       "X-Cache: MISS\r\n",
       "X-UA-Compatible: IE=Edge\r\n",
       "Accept-Ranges: bytes\r\n",
       "Connection: keep-alive\r\n",
       "Set-Cookie: ssbno=ffffffffc2a8b2e245525d5f4f58455e445a4a423660;expires=Mon, 12-Sep-2022 10:43:27 GMT;path=/;secure;httponly\r\n",
       "\r\n",
       "{\"class\":\"dataset\",\"label\":\"03024: Eksport av oppalen laks, etter varegruppe, statistikkvariabel og uke\",\"source\":\"Statistisk sentralbyrå\",\"updated\":\"2022-09-07T06:00:00Z\",\"id\":[\"VareGrupper2\",\"ContentsCode\",\"Tid\"],\"size\":[2,2,2],\"dimension\":{\"VareGrupper2\":{\"label\":\"varegruppe\",\"category\":{\"index\":{\"01\":0,\"02\":1},\"label\":{\"01\":\"Fersk oppalen laks\",\"02\":\"Frosen oppalen laks\"}}},\"ContentsCode\":{\"label\":\"statistikkvariabel\",\"category\":{\"index\":{\"Vekt\":0,\"Kilopris\":1},\"label\":{\"Vekt\":\"Vekt (tonn)\",\"Kilopris\":\"Kilopris (kr)\"},\"unit\":{\"Vekt\":{\"base\":\"tonn\",\"decimals\":0},\"Kilopris\":{\"base\":\"kr\",\"decimals\":2}}},\"link\":{\"describedby\":[{\"extension\":{\"Vekt\":\"urn:ssb:conceptvariable:vardok:2982\"}}]}},\"Tid\":{\"label\":\"uke\",\"category\":{\"index\":{\"2022U34\":0,\"2022U35\":1},\"label\":{\"2022U34\":\"2022U34\",\"2022U35\":\"2022U35\"}}}},\"value\":[24160,24010,64.62,61.94,719,585,86.83,87.02],\"role\":{\"time\":[\"Tid\"],\"metric\":[\"ContentsCode\"]},\"version\":\"2.0\",\"extension\":{\"px\":{\"infofile\":\"None\",\"tableid\":\"03024\",\"deci\n",
       "⋮\n",
       "1010-byte body\n",
       "\"\"\""
      ]
     },
     "execution_count": 98,
     "metadata": {},
     "output_type": "execute_result"
    }
   ],
   "source": [
    "r = HTTP.request(\"POST\", url,\n",
    "                 [\"Content-Type\" => \"application/json\"],\n",
    "                 JSON.json(params))"
   ]
  },
  {
   "cell_type": "code",
   "execution_count": 101,
   "id": "08645231-518a-4354-ab64-49cd23c46a56",
   "metadata": {},
   "outputs": [
    {
     "data": {
      "text/plain": [
       "Dict{String, Any} with 11 entries:\n",
       "  \"label\"     => \"03024: Eksport av oppalen laks, etter varegruppe, statistikkv…\n",
       "  \"role\"      => Dict{String, Any}(\"time\"=>Any[\"Tid\"], \"metric\"=>Any[\"ContentsC…\n",
       "  \"id\"        => Any[\"VareGrupper2\", \"ContentsCode\", \"Tid\"]\n",
       "  \"value\"     => Any[24160, 24010, 64.62, 61.94, 719, 585, 86.83, 87.02]\n",
       "  \"version\"   => \"2.0\"\n",
       "  \"updated\"   => \"2022-09-07T06:00:00Z\"\n",
       "  \"class\"     => \"dataset\"\n",
       "  \"dimension\" => Dict{String, Any}(\"ContentsCode\"=>Dict{String, Any}(\"label\"=>\"…\n",
       "  \"size\"      => Any[2, 2, 2]\n",
       "  \"extension\" => Dict{String, Any}(\"px\"=>Dict{String, Any}(\"infofile\"=>\"None\", …\n",
       "  \"source\"    => \"Statistisk sentralbyrå\""
      ]
     },
     "execution_count": 101,
     "metadata": {},
     "output_type": "execute_result"
    }
   ],
   "source": [
    "bodyjs = JSON.parse(String(r.body))"
   ]
  },
  {
   "cell_type": "markdown",
   "id": "badaf153-5f1b-4331-855c-62975c9050bd",
   "metadata": {},
   "source": [
    "## More to come..."
   ]
  },
  {
   "cell_type": "code",
   "execution_count": null,
   "id": "67214a9d-8117-415a-8cd1-0fd3d8b296a0",
   "metadata": {},
   "outputs": [],
   "source": []
  },
  {
   "cell_type": "code",
   "execution_count": null,
   "id": "f0cf958c-5c44-4f67-98e0-23cfe0956b62",
   "metadata": {},
   "outputs": [],
   "source": []
  },
  {
   "cell_type": "code",
   "execution_count": 240,
   "id": "d9409c2d-82ca-4533-a950-12f6298c30f6",
   "metadata": {},
   "outputs": [
    {
     "ename": "LoadError",
     "evalue": "Unexpected end of input\nLine: 0\nAround: ......\n           ^\n",
     "output_type": "error",
     "traceback": [
      "Unexpected end of input\nLine: 0\nAround: ......\n           ^\n",
      "",
      "Stacktrace:",
      " [1] error(s::String)",
      "   @ Base .\\error.jl:33",
      " [2] _error(message::String, ps::JSON.Parser.MemoryParserState)",
      "   @ JSON.Parser C:\\Users\\jhu\\.julia\\packages\\JSON\\NeJ9k\\src\\Parser.jl:140"
     ]
    }
   ],
   "source": [
    "testing = readjsondataset(JSON.parse(String(r.body)))"
   ]
  },
  {
   "cell_type": "code",
   "execution_count": 230,
   "id": "e7d3fdc0-313b-45d2-a895-a4d5ad3078cd",
   "metadata": {},
   "outputs": [
    {
     "data": {
      "text/plain": [
       "3-element Vector{Any}:\n",
       " 2\n",
       " 2\n",
       " 2"
      ]
     },
     "execution_count": 230,
     "metadata": {},
     "output_type": "execute_result"
    }
   ],
   "source": [
    "firstdict = Dict()\n",
    "ident = bodyjs[\"id\"]\n",
    "data = bodyjs[\"value\"]\n",
    "dim = bodyjs[\"dimension\"]\n",
    "dsize = bodyjs[\"size\"]"
   ]
  },
  {
   "cell_type": "code",
   "execution_count": 233,
   "id": "c3b3d093-38cf-4b14-a29a-7a6e55c808f7",
   "metadata": {},
   "outputs": [
    {
     "name": "stdout",
     "output_type": "stream",
     "text": [
      "varegruppe\n",
      "statistikkvariabel\n",
      "uke\n"
     ]
    }
   ],
   "source": [
    "for i in ident\n",
    "    label = dim[\"$i\"][\"label\"]\n",
    "    #cat = dim[\"$i\"][\"category\"]\n",
    "    #firstdict[\"$label\"] = \n",
    "    println(label)\n",
    "end"
   ]
  },
  {
   "cell_type": "code",
   "execution_count": null,
   "id": "3eedca44-9ebe-49ec-850c-dbcdc5c8b1c3",
   "metadata": {},
   "outputs": [],
   "source": []
  },
  {
   "cell_type": "code",
   "execution_count": 234,
   "id": "3b483d5b-be86-4331-bbd7-fef5202eeefc",
   "metadata": {},
   "outputs": [
    {
     "data": {
      "text/plain": [
       "Dict{String, Any} with 2 entries:\n",
       "  \"label\" => Dict{String, Any}(\"02\"=>\"Frosen oppalen laks\", \"01\"=>\"Fersk oppale…\n",
       "  \"index\" => Dict{String, Any}(\"02\"=>1, \"01\"=>0)"
      ]
     },
     "execution_count": 234,
     "metadata": {},
     "output_type": "execute_result"
    }
   ],
   "source": [
    "bodyjs[\"dimension\"][\"VareGrupper2\"][\"category\"]"
   ]
  },
  {
   "cell_type": "code",
   "execution_count": 187,
   "id": "693f18ab-9a3a-48a0-bbdf-bf4f8bca3464",
   "metadata": {},
   "outputs": [
    {
     "data": {
      "text/plain": [
       "split (generic function with 2 methods)"
      ]
     },
     "execution_count": 187,
     "metadata": {},
     "output_type": "execute_result"
    }
   ],
   "source": [
    "function split(x, n)\n",
    "         result = Vector{Vector{eltype(x)}}()\n",
    "         start = firstindex(x)\n",
    "         for len in n\n",
    "           push!(result, x[start:(start + len - 1)])\n",
    "           start += len\n",
    "         end\n",
    "         result\n",
    "       end"
   ]
  },
  {
   "cell_type": "code",
   "execution_count": null,
   "id": "7f910e13-cb83-4cd0-b53d-26aefccb8b69",
   "metadata": {},
   "outputs": [],
   "source": []
  },
  {
   "cell_type": "code",
   "execution_count": 197,
   "id": "6946085a-edce-4cd1-afdf-9a2b69e02b8e",
   "metadata": {},
   "outputs": [
    {
     "data": {
      "text/plain": [
       "chunk (generic function with 1 method)"
      ]
     },
     "execution_count": 197,
     "metadata": {},
     "output_type": "execute_result"
    }
   ],
   "source": [
    "chunk(arr, n) = [arr[i:min(i + n - 1, end)] for i in 1:n:length(arr)]"
   ]
  },
  {
   "cell_type": "code",
   "execution_count": 204,
   "id": "30118c45-8ee1-4461-86f2-2f1f45df535b",
   "metadata": {},
   "outputs": [
    {
     "data": {
      "text/plain": [
       "4.0"
      ]
     },
     "execution_count": 204,
     "metadata": {},
     "output_type": "execute_result"
    }
   ],
   "source": [
    "length(bodyjs[\"value\"])/2"
   ]
  },
  {
   "cell_type": "code",
   "execution_count": 218,
   "id": "6417a5f8-1d16-48c5-9708-b42bdeff4d15",
   "metadata": {},
   "outputs": [
    {
     "data": {
      "text/plain": [
       "4-element Vector{Any}:\n",
       " 24160\n",
       " 24010\n",
       "    64.62\n",
       "    61.94"
      ]
     },
     "execution_count": 218,
     "metadata": {},
     "output_type": "execute_result"
    }
   ],
   "source": [
    "bodyjs[\"value\"][1:4]"
   ]
  },
  {
   "cell_type": "code",
   "execution_count": 188,
   "id": "42a3958c-6ebc-4ccb-97bf-b6267fce7f89",
   "metadata": {},
   "outputs": [
    {
     "data": {
      "text/plain": [
       "4-element Vector{Int64}:\n",
       " 2\n",
       " 2\n",
       " 2\n",
       " 2"
      ]
     },
     "execution_count": 188,
     "metadata": {},
     "output_type": "execute_result"
    }
   ],
   "source": [
    "test = [2,2,2,2]"
   ]
  },
  {
   "cell_type": "code",
   "execution_count": 202,
   "id": "0b877ffc-2e7e-4289-8b28-1076fc6e9500",
   "metadata": {},
   "outputs": [
    {
     "data": {
      "text/plain": [
       "8-element Vector{Any}:\n",
       " 24160\n",
       " 24010\n",
       "    64.62\n",
       "    61.94\n",
       "   719\n",
       "   585\n",
       "    86.83\n",
       "    87.02"
      ]
     },
     "execution_count": 202,
     "metadata": {},
     "output_type": "execute_result"
    }
   ],
   "source": [
    "bodyjs[\"value\"]"
   ]
  },
  {
   "cell_type": "code",
   "execution_count": 184,
   "id": "e5b3b49c-1489-4e81-bdb4-4b552cb11bd4",
   "metadata": {},
   "outputs": [
    {
     "data": {
      "text/plain": [
       "8-element Vector{Any}:\n",
       " 24160\n",
       " 24010\n",
       "    64.62\n",
       "    61.94\n",
       "   719\n",
       "   585\n",
       "    86.83\n",
       "    87.02"
      ]
     },
     "execution_count": 184,
     "metadata": {},
     "output_type": "execute_result"
    }
   ],
   "source": [
    "bodyjs[\"value\"]"
   ]
  },
  {
   "cell_type": "code",
   "execution_count": 167,
   "id": "64a589e4-4113-41a8-995c-59bb8a150f3d",
   "metadata": {},
   "outputs": [
    {
     "data": {
      "text/plain": [
       "4.0"
      ]
     },
     "execution_count": 167,
     "metadata": {},
     "output_type": "execute_result"
    }
   ],
   "source": [
    "prod(bodyjs[\"size\"]) / (sum(bodyjs[\"size\"]) / length(bodyjs[\"size\"]))"
   ]
  },
  {
   "cell_type": "code",
   "execution_count": 115,
   "id": "47b6e021-fe93-4dc5-b84a-8370d122452e",
   "metadata": {},
   "outputs": [
    {
     "data": {
      "text/plain": [
       "2.0"
      ]
     },
     "execution_count": 115,
     "metadata": {},
     "output_type": "execute_result"
    }
   ],
   "source": [
    "sum(bodyjs[\"size\"]) / length(bodyjs[\"size\"])"
   ]
  },
  {
   "cell_type": "code",
   "execution_count": 190,
   "id": "ab4b5885-28df-47b8-b0e6-c5f1033f51c2",
   "metadata": {},
   "outputs": [
    {
     "data": {
      "text/plain": [
       "8"
      ]
     },
     "execution_count": 190,
     "metadata": {},
     "output_type": "execute_result"
    }
   ],
   "source": [
    "length(bodyjs[\"value\"])"
   ]
  },
  {
   "cell_type": "code",
   "execution_count": 191,
   "id": "0d5b7195-9203-414c-8e7e-fbf6b3c0c5bc",
   "metadata": {},
   "outputs": [
    {
     "data": {
      "text/plain": [
       "8"
      ]
     },
     "execution_count": 191,
     "metadata": {},
     "output_type": "execute_result"
    }
   ],
   "source": [
    "prod(bodyjs[\"size\"])"
   ]
  },
  {
   "cell_type": "code",
   "execution_count": 193,
   "id": "4ab60cfc-7029-4708-96df-73d7732b38e8",
   "metadata": {},
   "outputs": [
    {
     "data": {
      "text/plain": [
       "true"
      ]
     },
     "execution_count": 193,
     "metadata": {},
     "output_type": "execute_result"
    }
   ],
   "source": [
    "length(bodyjs[\"value\"]) == prod(bodyjs[\"size\"])"
   ]
  },
  {
   "cell_type": "code",
   "execution_count": 194,
   "id": "a13b6fc0-e74f-4fe3-976f-3612e5792d43",
   "metadata": {},
   "outputs": [
    {
     "data": {
      "text/plain": [
       "3"
      ]
     },
     "execution_count": 194,
     "metadata": {},
     "output_type": "execute_result"
    }
   ],
   "source": [
    "length(bodyjs[\"size\"])"
   ]
  },
  {
   "cell_type": "code",
   "execution_count": 196,
   "id": "c685bf21-0207-407a-9cf8-82a94334eaf9",
   "metadata": {},
   "outputs": [
    {
     "data": {
      "text/plain": [
       "6"
      ]
     },
     "execution_count": 196,
     "metadata": {},
     "output_type": "execute_result"
    }
   ],
   "source": [
    "sum(bodyjs[\"size\"])"
   ]
  },
  {
   "cell_type": "code",
   "execution_count": 140,
   "id": "97fc0421-f81c-445a-ac8a-560669c1af75",
   "metadata": {},
   "outputs": [
    {
     "data": {
      "text/plain": [
       "Dict{String, Any} with 2 entries:\n",
       "  \"label\" => Dict{String, Any}(\"02\"=>\"Frosen oppalen laks\", \"01\"=>\"Fersk oppale…\n",
       "  \"index\" => Dict{String, Any}(\"02\"=>1, \"01\"=>0)"
      ]
     },
     "execution_count": 140,
     "metadata": {},
     "output_type": "execute_result"
    }
   ],
   "source": [
    "bodyjs[\"dimension\"][\"VareGrupper2\"][\"category\"]"
   ]
  },
  {
   "cell_type": "code",
   "execution_count": 73,
   "id": "ac3f42c4-e0fd-4230-a4a9-5ed87ec690d1",
   "metadata": {},
   "outputs": [
    {
     "data": {
      "text/plain": [
       "Dict{String, Any} with 2 entries:\n",
       "  \"2022U34\" => 0\n",
       "  \"2022U35\" => 1"
      ]
     },
     "execution_count": 73,
     "metadata": {},
     "output_type": "execute_result"
    }
   ],
   "source": [
    "bodyjs[\"dimension\"][\"Tid\"][\"category\"][\"index\"]"
   ]
  },
  {
   "cell_type": "code",
   "execution_count": 86,
   "id": "0b121c52-6b5f-48c8-913c-1c383069f215",
   "metadata": {},
   "outputs": [
    {
     "data": {
      "text/plain": [
       "Dict{String, Any} with 2 entries:\n",
       "  \"Vekt\"     => 0\n",
       "  \"Kilopris\" => 1"
      ]
     },
     "execution_count": 86,
     "metadata": {},
     "output_type": "execute_result"
    }
   ],
   "source": [
    "bodyjs[\"dimension\"][\"ContentsCode\"][\"category\"][\"index\"]"
   ]
  },
  {
   "cell_type": "code",
   "execution_count": 90,
   "id": "d8df066f-674c-45a1-b15f-3d9764d232e6",
   "metadata": {},
   "outputs": [
    {
     "data": {
      "text/plain": [
       "Dict{String, Any} with 2 entries:\n",
       "  \"02\" => \"Frosen oppalen laks\"\n",
       "  \"01\" => \"Fersk oppalen laks\""
      ]
     },
     "execution_count": 90,
     "metadata": {},
     "output_type": "execute_result"
    }
   ],
   "source": [
    "bodyjs[\"dimension\"][\"VareGrupper2\"][\"category\"][\"label\"]"
   ]
  },
  {
   "cell_type": "code",
   "execution_count": 91,
   "id": "ea0065a1-7e08-4972-abbf-f2d0f308008a",
   "metadata": {},
   "outputs": [
    {
     "data": {
      "text/plain": [
       "Dict{String, Any} with 2 entries:\n",
       "  \"02\" => 1\n",
       "  \"01\" => 0"
      ]
     },
     "execution_count": 91,
     "metadata": {},
     "output_type": "execute_result"
    }
   ],
   "source": [
    "bodyjs[\"dimension\"][\"VareGrupper2\"][\"category\"][\"index\"]"
   ]
  },
  {
   "cell_type": "code",
   "execution_count": 96,
   "id": "54cb2139-52dc-4c67-8e74-496f6bbcf501",
   "metadata": {},
   "outputs": [
    {
     "data": {
      "text/plain": [
       "3-element Vector{Any}:\n",
       " \"VareGrupper2\"\n",
       " \"ContentsCode\"\n",
       " \"Tid\""
      ]
     },
     "execution_count": 96,
     "metadata": {},
     "output_type": "execute_result"
    }
   ],
   "source": [
    "bodyjs[\"id\"]"
   ]
  },
  {
   "cell_type": "code",
   "execution_count": null,
   "id": "3b91dd4c-8cf3-41d5-a36b-e171018af487",
   "metadata": {},
   "outputs": [],
   "source": []
  }
 ],
 "metadata": {
  "kernelspec": {
   "display_name": "Julia 1.7.2",
   "language": "julia",
   "name": "julia-1.7"
  },
  "language_info": {
   "file_extension": ".jl",
   "mimetype": "application/julia",
   "name": "julia",
   "version": "1.7.2"
  }
 },
 "nbformat": 4,
 "nbformat_minor": 5
}
