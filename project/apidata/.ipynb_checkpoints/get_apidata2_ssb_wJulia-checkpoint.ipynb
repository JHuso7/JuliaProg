{
 "cells": [
  {
   "cell_type": "markdown",
   "id": "82ccac0f-e7da-4445-8b7c-a0e213e84b41",
   "metadata": {},
   "source": [
    "## Get Packages"
   ]
  },
  {
   "cell_type": "code",
   "execution_count": 40,
   "id": "f66bd98b-b56d-4f2b-976c-75b02b0608ea",
   "metadata": {},
   "outputs": [],
   "source": [
    "using HTTP\n",
    "using DataFrames\n",
    "using JSON\n",
    "using JSONStat\n",
    "using DataStructures"
   ]
  },
  {
   "cell_type": "markdown",
   "id": "84ab3ca6-981a-4352-aae8-cc4045a3f05b",
   "metadata": {},
   "source": [
    "## Get data from API\n",
    "\n",
    "lets try to get data from Statistics Norway about salmon export: https://www.ssb.no/statbank/table/03024/"
   ]
  },
  {
   "cell_type": "code",
   "execution_count": 44,
   "id": "382d3312-f803-489e-9623-fb612ca20978",
   "metadata": {},
   "outputs": [
    {
     "data": {
      "text/plain": [
       "Dict{String, Any} with 2 entries:\n",
       "  \"response\" => Dict(\"format\"=>\"json-stat2\")\n",
       "  \"query\"    => Dict{String, Any}[Dict(\"selection\"=>Dict{String, Any}(\"values\"=…"
      ]
     },
     "execution_count": 44,
     "metadata": {},
     "output_type": "execute_result"
    }
   ],
   "source": [
    "params = Dict(\"query\" => [\n",
    "        Dict(\n",
    "            \"code\" => \"Tid\",\n",
    "            \"selection\" => Dict(\n",
    "                \"filter\" => \"item\",\n",
    "                \"values\" => [\"2022U34\", \"2022U35\"]\n",
    "            )\n",
    "        )], \"response\" => Dict(\"format\" => \"json-stat2\"))"
   ]
  },
  {
   "cell_type": "code",
   "execution_count": 45,
   "id": "7ff90bc9-f534-419d-a989-d76a6661602a",
   "metadata": {},
   "outputs": [
    {
     "data": {
      "text/plain": [
       "\"https://data.ssb.no/api/v0/no/table/03024/\""
      ]
     },
     "execution_count": 45,
     "metadata": {},
     "output_type": "execute_result"
    }
   ],
   "source": [
    "url = \"https://data.ssb.no/api/v0/no/table/03024/\""
   ]
  },
  {
   "cell_type": "code",
   "execution_count": 52,
   "id": "24be5873-1a7c-4723-8a05-f31af3ed61b3",
   "metadata": {},
   "outputs": [
    {
     "data": {
      "text/plain": [
       "HTTP.Messages.Response:\n",
       "\"\"\"\n",
       "HTTP/1.1 200 OK\r\n",
       "Cache-Control: private\r\n",
       "Content-Type: application/json; charset=utf-8\r\n",
       "Access-Control-Allow-Origin: *\r\n",
       "Date: Wed, 25 Jan 2023 18:56:04 GMT\r\n",
       "Content-Length: 1096\r\n",
       "X-Varnish: 607171504\r\n",
       "Age: 0\r\n",
       "Via: 1.1 varnish (Varnish/6.0)\r\n",
       "Content-Security-Policy: upgrade-insecure-requests\r\n",
       "Expect-CT: enforce, max-age=3600\r\n",
       "Referrer-Policy: no-referrer-when-downgrade\r\n",
       "Strict-Transport-Security: max-age=86400\r\n",
       "X-Content-Type-Options: nosniff\r\n",
       "X-Frame-Options: SAMEORIGIN\r\n",
       "X-XSS-Protection: 1; mode=block\r\n",
       "X-Cache: MISS\r\n",
       "X-UA-Compatible: IE=Edge\r\n",
       "Accept-Ranges: bytes\r\n",
       "Connection: keep-alive\r\n",
       "Set-Cookie: ssbno=ffffffffc2a8b2e245525d5f4f58455e445a4a423660;expires=Wed, 25-Jan-2023 19:56:04 GMT;path=/;secure;httponly\r\n",
       "\r\n",
       "{\"class\":\"dataset\",\"label\":\"03024: Eksport av oppalen laks, etter varegruppe, statistikkvariabel og uke\",\"source\":\"Statistisk sentralbyrå\",\"updated\":\"2023-01-25T07:00:00Z\",\"id\":[\"VareGrupper2\",\"ContentsCode\",\"Tid\"],\"size\":[2,2,2],\"dimension\":{\"VareGrupper2\":{\"extension\":{\"show\":\"value\"},\"label\":\"varegruppe\",\"category\":{\"index\":{\"01\":0,\"02\":1},\"label\":{\"01\":\"Fersk oppalen laks\",\"02\":\"Frosen oppalen laks\"}}},\"ContentsCode\":{\"extension\":{\"show\":\"value\"},\"label\":\"statistikkvariabel\",\"category\":{\"index\":{\"Vekt\":0,\"Kilopris\":1},\"label\":{\"Vekt\":\"Vekt (tonn)\",\"Kilopris\":\"Kilopris (kr)\"},\"unit\":{\"Vekt\":{\"base\":\"tonn\",\"decimals\":0},\"Kilopris\":{\"base\":\"kr\",\"decimals\":2}}},\"link\":{\"describedby\":[{\"extension\":{\"Vekt\":\"urn:ssb:conceptvariable:vardok:2982\"}}]}},\"Tid\":{\"extension\":{\"show\":\"code\"},\"label\":\"uke\",\"category\":{\"index\":{\"2022U34\":0,\"2022U35\":1},\"label\":{\"2022U34\":\"2022U34\",\"2022U35\":\"2022U35\"}}}},\"value\":[24160,24010,64.62,61.94,719,585,86.83,87.02],\"role\":{\"time\":[\"Tid\"],\"metric\":[\"Conten\n",
       "⋮\n",
       "1096-byte body\n",
       "\"\"\""
      ]
     },
     "execution_count": 52,
     "metadata": {},
     "output_type": "execute_result"
    }
   ],
   "source": [
    "r = HTTP.request(\"POST\", url,\n",
    "                 [\"Content-Type\" => \"application/json\"],\n",
    "                 JSON.json(params))"
   ]
  },
  {
   "cell_type": "code",
   "execution_count": 53,
   "id": "08645231-518a-4354-ab64-49cd23c46a56",
   "metadata": {},
   "outputs": [
    {
     "data": {
      "text/plain": [
       "OrderedDict{String, Any} with 11 entries:\n",
       "  \"class\"     => \"dataset\"\n",
       "  \"label\"     => \"03024: Eksport av oppalen laks, etter varegruppe, statistikkv…\n",
       "  \"source\"    => \"Statistisk sentralbyrå\"\n",
       "  \"updated\"   => \"2023-01-25T07:00:00Z\"\n",
       "  \"id\"        => Any[\"VareGrupper2\", \"ContentsCode\", \"Tid\"]\n",
       "  \"size\"      => Any[2, 2, 2]\n",
       "  \"dimension\" => OrderedDict{String, Any}(\"VareGrupper2\"=>OrderedDict{String, A…\n",
       "  \"value\"     => Any[24160, 24010, 64.62, 61.94, 719, 585, 86.83, 87.02]\n",
       "  \"role\"      => OrderedDict{String, Any}(\"time\"=>Any[\"Tid\"], \"metric\"=>Any[\"Co…\n",
       "  \"version\"   => \"2.0\"\n",
       "  \"extension\" => OrderedDict{String, Any}(\"px\"=>OrderedDict{String, Any}(\"infof…"
      ]
     },
     "execution_count": 53,
     "metadata": {},
     "output_type": "execute_result"
    }
   ],
   "source": [
    "bodyjs = JSON.parse(String(r.body), dicttype = DataStructures.OrderedDict)"
   ]
  },
  {
   "cell_type": "code",
   "execution_count": 38,
   "id": "6e6d30bd-0196-4cee-a0eb-40d7c69ef7c9",
   "metadata": {},
   "outputs": [
    {
     "data": {
      "text/plain": [
       "Dict{String, Any} with 11 entries:\n",
       "  \"label\"     => \"03024: Eksport av oppalen laks, etter varegruppe, statistikkv…\n",
       "  \"role\"      => Dict{String, Any}(\"time\"=>Any[\"Tid\"], \"metric\"=>Any[\"ContentsC…\n",
       "  \"id\"        => Any[\"VareGrupper2\", \"ContentsCode\", \"Tid\"]\n",
       "  \"value\"     => Any[24160, 24010, 64.62, 61.94, 719, 585, 86.83, 87.02]\n",
       "  \"version\"   => \"2.0\"\n",
       "  \"updated\"   => \"2023-01-25T07:00:00Z\"\n",
       "  \"class\"     => \"dataset\"\n",
       "  \"dimension\" => Dict{String, Any}(\"ContentsCode\"=>Dict{String, Any}(\"label\"=>\"…\n",
       "  \"size\"      => Any[2, 2, 2]\n",
       "  \"extension\" => Dict{String, Any}(\"px\"=>Dict{String, Any}(\"infofile\"=>\"None\", …\n",
       "  \"source\"    => \"Statistisk sentralbyrå\""
      ]
     },
     "execution_count": 38,
     "metadata": {},
     "output_type": "execute_result"
    }
   ],
   "source": [
    "println(bodyjs)"
   ]
  },
  {
   "cell_type": "code",
   "execution_count": 57,
   "id": "46ba9a3d-bcf0-473f-ad6e-2cd50bdd6b47",
   "metadata": {},
   "outputs": [
    {
     "data": {
      "text/plain": [
       "OrderedDict{Any, Any} with 9 entries:\n",
       "  \"class\"        => \"dataset\"\n",
       "  \"label\"        => \"03024: Eksport av oppalen laks, etter varegruppe, statisti…\n",
       "  \"source\"       => \"Statistisk sentralbyrå\"\n",
       "  \"updated\"      => \"2023-01-25T07:00:00Z\"\n",
       "  \"role\"         => OrderedDict{String, Any}(\"time\"=>Any[\"Tid\"], \"metric\"=>Any[…\n",
       "  \"version\"      => \"2.0\"\n",
       "  \"extension\"    => OrderedDict{String, Any}(\"px\"=>OrderedDict{String, Any}(\"in…\n",
       "  \"dimension\"    => OrderedDict{String, OrderedDict{Any, Any}}(\"VareGrupper2\"=>…\n",
       "  \"datasetframe\" => \u001b[1m8×4 DataFrame\u001b[0m…"
      ]
     },
     "execution_count": 57,
     "metadata": {},
     "output_type": "execute_result"
    }
   ],
   "source": [
    "salmon = readjsondataset(bodyjs)"
   ]
  },
  {
   "cell_type": "code",
   "execution_count": 61,
   "id": "0ce9a0e4-eebb-4a6e-8231-b3fd63b40f5e",
   "metadata": {},
   "outputs": [
    {
     "name": "stdout",
     "output_type": "stream",
     "text": [
      "OrderedDict{Any, Any}(\"class\" => \"dataset\", \"label\" => \"03024: Eksport av oppalen laks, etter varegruppe, statistikkvariabel og uke\", \"source\" => \"Statistisk sentralbyrå\", \"updated\" => \"2023-01-25T07:00:00Z\", \"role\" => OrderedDict{String, Any}(\"time\" => Any[\"Tid\"], \"metric\" => Any[\"ContentsCode\"]), \"version\" => \"2.0\", \"extension\" => OrderedDict{String, Any}(\"px\" => OrderedDict{String, Any}(\"infofile\" => \"None\", \"tableid\" => \"03024\", \"decimals\" => 0)), \"dimension\" => OrderedDict{String, OrderedDict{Any, Any}}(\"VareGrupper2\" => OrderedDict(\"category\" => OrderedDict{Any, Any}(\"label\" => OrderedDict{String, Any}(\"01\" => \"Fersk oppalen laks\", \"02\" => \"Frosen oppalen laks\")), \"label\" => \"varegruppe\", \"dimframe\" => \u001b[1m2×1 DataFrame\u001b[0m\n",
      "\u001b[1m Row \u001b[0m│\u001b[1m VareGrupper2 \u001b[0m\n",
      "     │\u001b[90m String       \u001b[0m\n",
      "─────┼──────────────\n",
      "   1 │ 01\n",
      "   2 │ 02), \"ContentsCode\" => OrderedDict(\"category\" => OrderedDict{Any, Any}(\"label\" => OrderedDict{String, Any}(\"Vekt\" => \"Vekt (tonn)\", \"Kilopris\" => \"Kilopris (kr)\"), \"unit\" => OrderedDict{String, Any}(\"Vekt\" => OrderedDict{String, Any}(\"base\" => \"tonn\", \"decimals\" => 0), \"Kilopris\" => OrderedDict{String, Any}(\"base\" => \"kr\", \"decimals\" => 2))), \"label\" => \"statistikkvariabel\", \"dimframe\" => \u001b[1m2×1 DataFrame\u001b[0m\n",
      "\u001b[1m Row \u001b[0m│\u001b[1m ContentsCode \u001b[0m\n",
      "     │\u001b[90m String       \u001b[0m\n",
      "─────┼──────────────\n",
      "   1 │ Vekt\n",
      "   2 │ Kilopris), \"Tid\" => OrderedDict(\"category\" => OrderedDict{Any, Any}(\"label\" => OrderedDict{String, Any}(\"2022U34\" => \"2022U34\", \"2022U35\" => \"2022U35\")), \"label\" => \"uke\", \"dimframe\" => \u001b[1m2×1 DataFrame\u001b[0m\n",
      "\u001b[1m Row \u001b[0m│\u001b[1m Tid     \u001b[0m\n",
      "     │\u001b[90m String  \u001b[0m\n",
      "─────┼─────────\n",
      "   1 │ 2022U34\n",
      "   2 │ 2022U35)), \"datasetframe\" => \u001b[1m8×4 DataFrame\u001b[0m\n",
      "\u001b[1m Row \u001b[0m│\u001b[1m VareGrupper2 \u001b[0m\u001b[1m ContentsCode \u001b[0m\u001b[1m Tid     \u001b[0m\u001b[1m value \u001b[0m\n",
      "     │\u001b[90m String       \u001b[0m\u001b[90m String       \u001b[0m\u001b[90m String  \u001b[0m\u001b[90m Any   \u001b[0m\n",
      "─────┼────────────────────────────────────────────\n",
      "   1 │ 01            Vekt          2022U34  24160\n",
      "   2 │ 01            Vekt          2022U35  24010\n",
      "   3 │ 01            Kilopris      2022U34  64.62\n",
      "   4 │ 01            Kilopris      2022U35  61.94\n",
      "   5 │ 02            Vekt          2022U34  719\n",
      "   6 │ 02            Vekt          2022U35  585\n",
      "   7 │ 02            Kilopris      2022U34  86.83\n",
      "   8 │ 02            Kilopris      2022U35  87.02)\n"
     ]
    }
   ],
   "source": [
    "println(salmon)"
   ]
  },
  {
   "cell_type": "code",
   "execution_count": 59,
   "id": "38b81213-a41a-41df-b66b-5ea3d66b055d",
   "metadata": {},
   "outputs": [
    {
     "data": {
      "text/html": [
       "<div><div style = \"float: left;\"><span>8×4 DataFrame</span></div><div style = \"clear: both;\"></div></div><div class = \"data-frame\" style = \"overflow-x: scroll;\"><table class = \"data-frame\" style = \"margin-bottom: 6px;\"><thead><tr class = \"header\"><th class = \"rowNumber\" style = \"font-weight: bold; text-align: right;\">Row</th><th style = \"text-align: left;\">VareGrupper2</th><th style = \"text-align: left;\">ContentsCode</th><th style = \"text-align: left;\">Tid</th><th style = \"text-align: left;\">value</th></tr><tr class = \"subheader headerLastRow\"><th class = \"rowNumber\" style = \"font-weight: bold; text-align: right;\"></th><th title = \"String\" style = \"text-align: left;\">String</th><th title = \"String\" style = \"text-align: left;\">String</th><th title = \"String\" style = \"text-align: left;\">String</th><th title = \"Any\" style = \"text-align: left;\">Any</th></tr></thead><tbody><tr><td class = \"rowNumber\" style = \"font-weight: bold; text-align: right;\">1</td><td style = \"text-align: left;\">01</td><td style = \"text-align: left;\">Vekt</td><td style = \"text-align: left;\">2022U34</td><td style = \"text-align: left;\">24160</td></tr><tr><td class = \"rowNumber\" style = \"font-weight: bold; text-align: right;\">2</td><td style = \"text-align: left;\">01</td><td style = \"text-align: left;\">Vekt</td><td style = \"text-align: left;\">2022U35</td><td style = \"text-align: left;\">24010</td></tr><tr><td class = \"rowNumber\" style = \"font-weight: bold; text-align: right;\">3</td><td style = \"text-align: left;\">01</td><td style = \"text-align: left;\">Kilopris</td><td style = \"text-align: left;\">2022U34</td><td style = \"text-align: left;\">64.62</td></tr><tr><td class = \"rowNumber\" style = \"font-weight: bold; text-align: right;\">4</td><td style = \"text-align: left;\">01</td><td style = \"text-align: left;\">Kilopris</td><td style = \"text-align: left;\">2022U35</td><td style = \"text-align: left;\">61.94</td></tr><tr><td class = \"rowNumber\" style = \"font-weight: bold; text-align: right;\">5</td><td style = \"text-align: left;\">02</td><td style = \"text-align: left;\">Vekt</td><td style = \"text-align: left;\">2022U34</td><td style = \"text-align: left;\">719</td></tr><tr><td class = \"rowNumber\" style = \"font-weight: bold; text-align: right;\">6</td><td style = \"text-align: left;\">02</td><td style = \"text-align: left;\">Vekt</td><td style = \"text-align: left;\">2022U35</td><td style = \"text-align: left;\">585</td></tr><tr><td class = \"rowNumber\" style = \"font-weight: bold; text-align: right;\">7</td><td style = \"text-align: left;\">02</td><td style = \"text-align: left;\">Kilopris</td><td style = \"text-align: left;\">2022U34</td><td style = \"text-align: left;\">86.83</td></tr><tr><td class = \"rowNumber\" style = \"font-weight: bold; text-align: right;\">8</td><td style = \"text-align: left;\">02</td><td style = \"text-align: left;\">Kilopris</td><td style = \"text-align: left;\">2022U35</td><td style = \"text-align: left;\">87.02</td></tr></tbody></table></div>"
      ],
      "text/latex": [
       "\\begin{tabular}{r|cccc}\n",
       "\t& VareGrupper2 & ContentsCode & Tid & value\\\\\n",
       "\t\\hline\n",
       "\t& String & String & String & Any\\\\\n",
       "\t\\hline\n",
       "\t1 & 01 & Vekt & 2022U34 & 24160 \\\\\n",
       "\t2 & 01 & Vekt & 2022U35 & 24010 \\\\\n",
       "\t3 & 01 & Kilopris & 2022U34 & 64.62 \\\\\n",
       "\t4 & 01 & Kilopris & 2022U35 & 61.94 \\\\\n",
       "\t5 & 02 & Vekt & 2022U34 & 719 \\\\\n",
       "\t6 & 02 & Vekt & 2022U35 & 585 \\\\\n",
       "\t7 & 02 & Kilopris & 2022U34 & 86.83 \\\\\n",
       "\t8 & 02 & Kilopris & 2022U35 & 87.02 \\\\\n",
       "\\end{tabular}\n"
      ],
      "text/plain": [
       "\u001b[1m8×4 DataFrame\u001b[0m\n",
       "\u001b[1m Row \u001b[0m│\u001b[1m VareGrupper2 \u001b[0m\u001b[1m ContentsCode \u001b[0m\u001b[1m Tid     \u001b[0m\u001b[1m value \u001b[0m\n",
       "     │\u001b[90m String       \u001b[0m\u001b[90m String       \u001b[0m\u001b[90m String  \u001b[0m\u001b[90m Any   \u001b[0m\n",
       "─────┼────────────────────────────────────────────\n",
       "   1 │ 01            Vekt          2022U34  24160\n",
       "   2 │ 01            Vekt          2022U35  24010\n",
       "   3 │ 01            Kilopris      2022U34  64.62\n",
       "   4 │ 01            Kilopris      2022U35  61.94\n",
       "   5 │ 02            Vekt          2022U34  719\n",
       "   6 │ 02            Vekt          2022U35  585\n",
       "   7 │ 02            Kilopris      2022U34  86.83\n",
       "   8 │ 02            Kilopris      2022U35  87.02"
      ]
     },
     "execution_count": 59,
     "metadata": {},
     "output_type": "execute_result"
    }
   ],
   "source": [
    "df = salmon[\"datasetframe\"]"
   ]
  },
  {
   "cell_type": "code",
   "execution_count": 74,
   "id": "3217bd2a-2447-4486-947c-e8d1d92e23bd",
   "metadata": {},
   "outputs": [
    {
     "data": {
      "text/html": [
       "<div><div style = \"float: left;\"><span>2×2 DataFrame</span></div><div style = \"clear: both;\"></div></div><div class = \"data-frame\" style = \"overflow-x: scroll;\"><table class = \"data-frame\" style = \"margin-bottom: 6px;\"><thead><tr class = \"header\"><th class = \"rowNumber\" style = \"font-weight: bold; text-align: right;\">Row</th><th style = \"text-align: left;\">VareGrupper2</th><th style = \"text-align: left;\">VareGrupper2_label</th></tr><tr class = \"subheader headerLastRow\"><th class = \"rowNumber\" style = \"font-weight: bold; text-align: right;\"></th><th title = \"String\" style = \"text-align: left;\">String</th><th title = \"Any\" style = \"text-align: left;\">Any</th></tr></thead><tbody><tr><td class = \"rowNumber\" style = \"font-weight: bold; text-align: right;\">1</td><td style = \"text-align: left;\">01</td><td style = \"text-align: left;\">Fersk oppalen laks</td></tr><tr><td class = \"rowNumber\" style = \"font-weight: bold; text-align: right;\">2</td><td style = \"text-align: left;\">02</td><td style = \"text-align: left;\">Frosen oppalen laks</td></tr></tbody></table></div>"
      ],
      "text/latex": [
       "\\begin{tabular}{r|cc}\n",
       "\t& VareGrupper2 & VareGrupper2\\_label\\\\\n",
       "\t\\hline\n",
       "\t& String & Any\\\\\n",
       "\t\\hline\n",
       "\t1 & 01 & Fersk oppalen laks \\\\\n",
       "\t2 & 02 & Frosen oppalen laks \\\\\n",
       "\\end{tabular}\n"
      ],
      "text/plain": [
       "\u001b[1m2×2 DataFrame\u001b[0m\n",
       "\u001b[1m Row \u001b[0m│\u001b[1m VareGrupper2 \u001b[0m\u001b[1m VareGrupper2_label  \u001b[0m\n",
       "     │\u001b[90m String       \u001b[0m\u001b[90m Any                 \u001b[0m\n",
       "─────┼───────────────────────────────────\n",
       "   1 │ 01            Fersk oppalen laks\n",
       "   2 │ 02            Frosen oppalen laks"
      ]
     },
     "execution_count": 74,
     "metadata": {},
     "output_type": "execute_result"
    }
   ],
   "source": [
    "vareframe = labelframe(\"VareGrupper2\", salmon)"
   ]
  },
  {
   "cell_type": "code",
   "execution_count": 79,
   "id": "b0fc9aa1-a56b-4cb4-9c43-95cc1b6691bf",
   "metadata": {},
   "outputs": [
    {
     "data": {
      "text/html": [
       "<div><div style = \"float: left;\"><span>8×5 DataFrame</span></div><div style = \"clear: both;\"></div></div><div class = \"data-frame\" style = \"overflow-x: scroll;\"><table class = \"data-frame\" style = \"margin-bottom: 6px;\"><thead><tr class = \"header\"><th class = \"rowNumber\" style = \"font-weight: bold; text-align: right;\">Row</th><th style = \"text-align: left;\">VareGrupper2</th><th style = \"text-align: left;\">ContentsCode</th><th style = \"text-align: left;\">Tid</th><th style = \"text-align: left;\">value</th><th style = \"text-align: left;\">VareGrupper2_label</th></tr><tr class = \"subheader headerLastRow\"><th class = \"rowNumber\" style = \"font-weight: bold; text-align: right;\"></th><th title = \"String\" style = \"text-align: left;\">String</th><th title = \"String\" style = \"text-align: left;\">String</th><th title = \"String\" style = \"text-align: left;\">String</th><th title = \"Any\" style = \"text-align: left;\">Any</th><th title = \"Any\" style = \"text-align: left;\">Any</th></tr></thead><tbody><tr><td class = \"rowNumber\" style = \"font-weight: bold; text-align: right;\">1</td><td style = \"text-align: left;\">01</td><td style = \"text-align: left;\">Vekt</td><td style = \"text-align: left;\">2022U34</td><td style = \"text-align: left;\">24160</td><td style = \"text-align: left;\">Fersk oppalen laks</td></tr><tr><td class = \"rowNumber\" style = \"font-weight: bold; text-align: right;\">2</td><td style = \"text-align: left;\">01</td><td style = \"text-align: left;\">Vekt</td><td style = \"text-align: left;\">2022U35</td><td style = \"text-align: left;\">24010</td><td style = \"text-align: left;\">Fersk oppalen laks</td></tr><tr><td class = \"rowNumber\" style = \"font-weight: bold; text-align: right;\">3</td><td style = \"text-align: left;\">01</td><td style = \"text-align: left;\">Kilopris</td><td style = \"text-align: left;\">2022U34</td><td style = \"text-align: left;\">64.62</td><td style = \"text-align: left;\">Fersk oppalen laks</td></tr><tr><td class = \"rowNumber\" style = \"font-weight: bold; text-align: right;\">4</td><td style = \"text-align: left;\">01</td><td style = \"text-align: left;\">Kilopris</td><td style = \"text-align: left;\">2022U35</td><td style = \"text-align: left;\">61.94</td><td style = \"text-align: left;\">Fersk oppalen laks</td></tr><tr><td class = \"rowNumber\" style = \"font-weight: bold; text-align: right;\">5</td><td style = \"text-align: left;\">02</td><td style = \"text-align: left;\">Vekt</td><td style = \"text-align: left;\">2022U34</td><td style = \"text-align: left;\">719</td><td style = \"text-align: left;\">Frosen oppalen laks</td></tr><tr><td class = \"rowNumber\" style = \"font-weight: bold; text-align: right;\">6</td><td style = \"text-align: left;\">02</td><td style = \"text-align: left;\">Vekt</td><td style = \"text-align: left;\">2022U35</td><td style = \"text-align: left;\">585</td><td style = \"text-align: left;\">Frosen oppalen laks</td></tr><tr><td class = \"rowNumber\" style = \"font-weight: bold; text-align: right;\">7</td><td style = \"text-align: left;\">02</td><td style = \"text-align: left;\">Kilopris</td><td style = \"text-align: left;\">2022U34</td><td style = \"text-align: left;\">86.83</td><td style = \"text-align: left;\">Frosen oppalen laks</td></tr><tr><td class = \"rowNumber\" style = \"font-weight: bold; text-align: right;\">8</td><td style = \"text-align: left;\">02</td><td style = \"text-align: left;\">Kilopris</td><td style = \"text-align: left;\">2022U35</td><td style = \"text-align: left;\">87.02</td><td style = \"text-align: left;\">Frosen oppalen laks</td></tr></tbody></table></div>"
      ],
      "text/latex": [
       "\\begin{tabular}{r|ccccc}\n",
       "\t& VareGrupper2 & ContentsCode & Tid & value & VareGrupper2\\_label\\\\\n",
       "\t\\hline\n",
       "\t& String & String & String & Any & Any\\\\\n",
       "\t\\hline\n",
       "\t1 & 01 & Vekt & 2022U34 & 24160 & Fersk oppalen laks \\\\\n",
       "\t2 & 01 & Vekt & 2022U35 & 24010 & Fersk oppalen laks \\\\\n",
       "\t3 & 01 & Kilopris & 2022U34 & 64.62 & Fersk oppalen laks \\\\\n",
       "\t4 & 01 & Kilopris & 2022U35 & 61.94 & Fersk oppalen laks \\\\\n",
       "\t5 & 02 & Vekt & 2022U34 & 719 & Frosen oppalen laks \\\\\n",
       "\t6 & 02 & Vekt & 2022U35 & 585 & Frosen oppalen laks \\\\\n",
       "\t7 & 02 & Kilopris & 2022U34 & 86.83 & Frosen oppalen laks \\\\\n",
       "\t8 & 02 & Kilopris & 2022U35 & 87.02 & Frosen oppalen laks \\\\\n",
       "\\end{tabular}\n"
      ],
      "text/plain": [
       "\u001b[1m8×5 DataFrame\u001b[0m\n",
       "\u001b[1m Row \u001b[0m│\u001b[1m VareGrupper2 \u001b[0m\u001b[1m ContentsCode \u001b[0m\u001b[1m Tid     \u001b[0m\u001b[1m value \u001b[0m\u001b[1m VareGrupper2_label  \u001b[0m\n",
       "     │\u001b[90m String       \u001b[0m\u001b[90m String       \u001b[0m\u001b[90m String  \u001b[0m\u001b[90m Any   \u001b[0m\u001b[90m Any                 \u001b[0m\n",
       "─────┼─────────────────────────────────────────────────────────────────\n",
       "   1 │ 01            Vekt          2022U34  24160  Fersk oppalen laks\n",
       "   2 │ 01            Vekt          2022U35  24010  Fersk oppalen laks\n",
       "   3 │ 01            Kilopris      2022U34  64.62  Fersk oppalen laks\n",
       "   4 │ 01            Kilopris      2022U35  61.94  Fersk oppalen laks\n",
       "   5 │ 02            Vekt          2022U34  719    Frosen oppalen laks\n",
       "   6 │ 02            Vekt          2022U35  585    Frosen oppalen laks\n",
       "   7 │ 02            Kilopris      2022U34  86.83  Frosen oppalen laks\n",
       "   8 │ 02            Kilopris      2022U35  87.02  Frosen oppalen laks"
      ]
     },
     "execution_count": 79,
     "metadata": {},
     "output_type": "execute_result"
    }
   ],
   "source": [
    "df = leftjoin(df, vareframe, on = :VareGrupper2)"
   ]
  },
  {
   "cell_type": "code",
   "execution_count": null,
   "id": "6cf10bc0-e14f-46f4-8aee-c836836226e0",
   "metadata": {},
   "outputs": [],
   "source": []
  }
 ],
 "metadata": {
  "kernelspec": {
   "display_name": "Julia 1.8.5",
   "language": "julia",
   "name": "julia-1.8"
  },
  "language_info": {
   "file_extension": ".jl",
   "mimetype": "application/julia",
   "name": "julia",
   "version": "1.8.5"
  }
 },
 "nbformat": 4,
 "nbformat_minor": 5
}
